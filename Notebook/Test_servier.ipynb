{
 "cells": [
  {
   "cell_type": "code",
   "execution_count": 1,
   "id": "acquired-voice",
   "metadata": {},
   "outputs": [
    {
     "name": "stderr",
     "output_type": "stream",
     "text": [
      "Using TensorFlow backend.\n"
     ]
    }
   ],
   "source": [
    "import pandas as pd\n",
    "from feature_extractor import *\n",
    "import keras\n",
    "from keras.models import Sequential, load_model\n",
    "from keras.preprocessing import sequence\n",
    "from keras.layers import Dense, Flatten, GlobalMaxPooling1D, Conv1D, Embedding, Dropout, MaxPooling1D, LSTM, Bidirectional, GRU, TimeDistributed\n",
    "from sklearn.model_selection import train_test_split, StratifiedKFold\n",
    "import numpy as np\n",
    "from rdkit.Chem import DataStructs\n",
    "import matplotlib.pyplot as plt"
   ]
  },
  {
   "cell_type": "raw",
   "id": "painted-pledge",
   "metadata": {},
   "source": [
    "Lecture des données"
   ]
  },
  {
   "cell_type": "code",
   "execution_count": 2,
   "id": "looking-introduction",
   "metadata": {},
   "outputs": [],
   "source": [
    "df = pd.read_csv('dataset_single.csv')"
   ]
  },
  {
   "cell_type": "code",
   "execution_count": 3,
   "id": "average-gathering",
   "metadata": {},
   "outputs": [
    {
     "data": {
      "text/html": [
       "<div>\n",
       "<style scoped>\n",
       "    .dataframe tbody tr th:only-of-type {\n",
       "        vertical-align: middle;\n",
       "    }\n",
       "\n",
       "    .dataframe tbody tr th {\n",
       "        vertical-align: top;\n",
       "    }\n",
       "\n",
       "    .dataframe thead th {\n",
       "        text-align: right;\n",
       "    }\n",
       "</style>\n",
       "<table border=\"1\" class=\"dataframe\">\n",
       "  <thead>\n",
       "    <tr style=\"text-align: right;\">\n",
       "      <th></th>\n",
       "      <th>P1</th>\n",
       "      <th>mol_id</th>\n",
       "      <th>smiles</th>\n",
       "    </tr>\n",
       "  </thead>\n",
       "  <tbody>\n",
       "    <tr>\n",
       "      <th>0</th>\n",
       "      <td>1</td>\n",
       "      <td>CID2999678</td>\n",
       "      <td>Cc1cccc(N2CCN(C(=O)C34CC5CC(CC(C5)C3)C4)CC2)c1C</td>\n",
       "    </tr>\n",
       "    <tr>\n",
       "      <th>1</th>\n",
       "      <td>0</td>\n",
       "      <td>CID2999679</td>\n",
       "      <td>Cn1ccnc1SCC(=O)Nc1ccc(Oc2ccccc2)cc1</td>\n",
       "    </tr>\n",
       "    <tr>\n",
       "      <th>2</th>\n",
       "      <td>1</td>\n",
       "      <td>CID2999672</td>\n",
       "      <td>COc1cc2c(cc1NC(=O)CN1C(=O)NC3(CCc4ccccc43)C1=O...</td>\n",
       "    </tr>\n",
       "    <tr>\n",
       "      <th>3</th>\n",
       "      <td>0</td>\n",
       "      <td>CID5390002</td>\n",
       "      <td>O=C1/C(=C/NC2CCS(=O)(=O)C2)c2ccccc2C(=O)N1c1cc...</td>\n",
       "    </tr>\n",
       "    <tr>\n",
       "      <th>4</th>\n",
       "      <td>1</td>\n",
       "      <td>CID2999670</td>\n",
       "      <td>NC(=O)NC(Cc1ccccc1)C(=O)O</td>\n",
       "    </tr>\n",
       "  </tbody>\n",
       "</table>\n",
       "</div>"
      ],
      "text/plain": [
       "   P1      mol_id                                             smiles\n",
       "0   1  CID2999678    Cc1cccc(N2CCN(C(=O)C34CC5CC(CC(C5)C3)C4)CC2)c1C\n",
       "1   0  CID2999679                Cn1ccnc1SCC(=O)Nc1ccc(Oc2ccccc2)cc1\n",
       "2   1  CID2999672  COc1cc2c(cc1NC(=O)CN1C(=O)NC3(CCc4ccccc43)C1=O...\n",
       "3   0  CID5390002  O=C1/C(=C/NC2CCS(=O)(=O)C2)c2ccccc2C(=O)N1c1cc...\n",
       "4   1  CID2999670                          NC(=O)NC(Cc1ccccc1)C(=O)O"
      ]
     },
     "execution_count": 3,
     "metadata": {},
     "output_type": "execute_result"
    }
   ],
   "source": [
    "df.head()"
   ]
  },
  {
   "cell_type": "code",
   "execution_count": 4,
   "id": "indie-straight",
   "metadata": {},
   "outputs": [
    {
     "data": {
      "text/plain": [
       "<AxesSubplot:ylabel='Frequency'>"
      ]
     },
     "execution_count": 4,
     "metadata": {},
     "output_type": "execute_result"
    },
    {
     "data": {
      "image/png": "[encoded data removed]",
      "text/plain": [
       "<Figure size 432x288 with 1 Axes>"
      ]
     },
     "metadata": {
      "needs_background": "light"
     },
     "output_type": "display_data"
    }
   ],
   "source": [
    "df['P1'].plot.hist()"
   ]
  },
  {
   "cell_type": "raw",
   "id": "parental-mobility",
   "metadata": {},
   "source": [
    "Commentaires:\n",
    "    Les données sont très désiquilibrées \n",
    "    Pour la création des jeux de données (train, val, test) nous allons le faire avec une méthode de \"stratification\""
   ]
  },
  {
   "cell_type": "markdown",
   "id": "recorded-chrome",
   "metadata": {},
   "source": []
  },
  {
   "cell_type": "raw",
   "id": "handmade-vulnerability",
   "metadata": {},
   "source": [
    "Conversion de la colonne \"smiles\" en array"
   ]
  },
  {
   "cell_type": "code",
   "execution_count": 5,
   "id": "mexican-diploma",
   "metadata": {},
   "outputs": [
    {
     "name": "stderr",
     "output_type": "stream",
     "text": [
      "/usr/local/anaconda3/envs/servier/lib/python3.6/site-packages/pandas/core/indexing.py:670: SettingWithCopyWarning: \n",
      "A value is trying to be set on a copy of a slice from a DataFrame\n",
      "\n",
      "See the caveats in the documentation: https://pandas.pydata.org/pandas-docs/stable/user_guide/indexing.html#returning-a-view-versus-a-copy\n",
      "  iloc._setitem_with_indexer(indexer, value)\n"
     ]
    }
   ],
   "source": [
    "arr = np.zeros((0,), dtype=np.int8)\n",
    "df['smiles'] = df['smiles'].apply(lambda x: fingerprint_features(x))\n",
    "X = df['smiles']\n",
    "y = df['P1']\n",
    "for j,i in enumerate(X):\n",
    "    DataStructs.ConvertToNumpyArray(X.iloc[j], arr)\n",
    "    X.iloc[j] = arr"
   ]
  },
  {
   "cell_type": "code",
   "execution_count": 6,
   "id": "curious-theta",
   "metadata": {},
   "outputs": [
    {
     "data": {
      "text/plain": [
       "0       [0, 0, 0, 0, 0, 0, 0, 0, 0, 0, 0, 0, 0, 0, 0, ...\n",
       "1       [0, 0, 0, 0, 0, 0, 0, 0, 0, 0, 0, 0, 0, 0, 0, ...\n",
       "2       [0, 0, 0, 0, 0, 0, 0, 0, 0, 0, 0, 0, 0, 0, 0, ...\n",
       "3       [0, 0, 0, 0, 0, 0, 0, 0, 0, 0, 0, 0, 0, 0, 0, ...\n",
       "4       [0, 0, 0, 0, 0, 0, 0, 0, 0, 0, 0, 0, 0, 0, 0, ...\n",
       "                              ...                        \n",
       "4994    [0, 0, 0, 0, 0, 0, 0, 0, 0, 0, 0, 0, 0, 0, 0, ...\n",
       "4995    [0, 0, 0, 0, 0, 0, 0, 0, 0, 0, 0, 0, 0, 0, 0, ...\n",
       "4996    [0, 0, 0, 0, 0, 0, 0, 0, 0, 0, 0, 0, 0, 0, 0, ...\n",
       "4997    [0, 0, 0, 0, 0, 0, 0, 0, 0, 0, 0, 0, 0, 0, 0, ...\n",
       "4998    [0, 0, 0, 0, 0, 0, 0, 0, 0, 0, 0, 0, 0, 0, 0, ...\n",
       "Name: smiles, Length: 4999, dtype: object"
      ]
     },
     "execution_count": 6,
     "metadata": {},
     "output_type": "execute_result"
    }
   ],
   "source": [
    "X"
   ]
  },
  {
   "cell_type": "raw",
   "id": "creative-outline",
   "metadata": {},
   "source": []
  },
  {
   "cell_type": "raw",
   "id": "packed-programming",
   "metadata": {},
   "source": [
    "Split des données"
   ]
  },
  {
   "cell_type": "code",
   "execution_count": 7,
   "id": "beneficial-turtle",
   "metadata": {},
   "outputs": [],
   "source": [
    "max_len = X.iloc[0].shape[0]"
   ]
  },
  {
   "cell_type": "code",
   "execution_count": 8,
   "id": "velvet-video",
   "metadata": {},
   "outputs": [],
   "source": [
    "x_score, y_score = X[-200:], y[-200:]"
   ]
  },
  {
   "cell_type": "code",
   "execution_count": 9,
   "id": "institutional-uncle",
   "metadata": {},
   "outputs": [],
   "source": [
    "X=X[:-200]\n",
    "y=y[:-200]"
   ]
  },
  {
   "cell_type": "code",
   "execution_count": 20,
   "id": "indirect-minutes",
   "metadata": {},
   "outputs": [],
   "source": [
    "kfold = StratifiedKFold(n_splits=3, shuffle=True, random_state=1)"
   ]
  },
  {
   "cell_type": "code",
   "execution_count": 21,
   "id": "driving-occupation",
   "metadata": {},
   "outputs": [],
   "source": [
    "x_score = sequence.pad_sequences(x_score, maxlen=max_len)"
   ]
  },
  {
   "cell_type": "code",
   "execution_count": 22,
   "id": "supported-southeast",
   "metadata": {},
   "outputs": [
    {
     "data": {
      "text/plain": [
       "(200, 2048)"
      ]
     },
     "execution_count": 22,
     "metadata": {},
     "output_type": "execute_result"
    }
   ],
   "source": [
    "x_score.shape"
   ]
  },
  {
   "cell_type": "raw",
   "id": "handled-scene",
   "metadata": {},
   "source": []
  },
  {
   "cell_type": "raw",
   "id": "curious-nitrogen",
   "metadata": {},
   "source": [
    "Model"
   ]
  },
  {
   "cell_type": "code",
   "execution_count": 25,
   "id": "progressive-cisco",
   "metadata": {
    "scrolled": false
   },
   "outputs": [
    {
     "name": "stdout",
     "output_type": "stream",
     "text": [
      ">Train: 0=572, 1=2627, Test: 0=286, 1=1314\n",
      "Model: \"sequential_12\"\n",
      "_________________________________________________________________\n",
      "Layer (type)                 Output Shape              Param #   \n",
      "=================================================================\n",
      "embedding_12 (Embedding)     (None, 2048, 16)          32768     \n",
      "_________________________________________________________________\n",
      "conv1d_14 (Conv1D)           (None, 2044, 32)          2592      \n",
      "_________________________________________________________________\n",
      "max_pooling1d_11 (MaxPooling (None, 408, 32)           0         \n",
      "_________________________________________________________________\n",
      "conv1d_15 (Conv1D)           (None, 404, 32)           5152      \n",
      "_________________________________________________________________\n",
      "max_pooling1d_12 (MaxPooling (None, 80, 32)            0         \n",
      "_________________________________________________________________\n",
      "global_max_pooling1d_11 (Glo (None, 32)                0         \n",
      "_________________________________________________________________\n",
      "dense_12 (Dense)             (None, 1)                 33        \n",
      "=================================================================\n",
      "Total params: 40,545\n",
      "Trainable params: 40,545\n",
      "Non-trainable params: 0\n",
      "_________________________________________________________________\n",
      "------------------------------------------------------------------------\n",
      "Training for fold 1 ...\n"
     ]
    },
    {
     "name": "stderr",
     "output_type": "stream",
     "text": [
      "/usr/local/anaconda3/envs/servier/lib/python3.6/site-packages/tensorflow_core/python/framework/indexed_slices.py:424: UserWarning: Converting sparse IndexedSlices to a dense Tensor of unknown shape. This may consume a large amount of memory.\n",
      "  \"Converting sparse IndexedSlices to a dense Tensor of unknown shape. \"\n"
     ]
    },
    {
     "name": "stdout",
     "output_type": "stream",
     "text": [
      "Train on 3199 samples, validate on 1600 samples\n",
      "Epoch 1/3\n",
      "3199/3199 [==============================] - 12s 4ms/step - loss: 0.4953 - acc: 0.8143 - val_loss: 0.4769 - val_acc: 0.8213\n",
      "Epoch 2/3\n",
      "3199/3199 [==============================] - 11s 4ms/step - loss: 0.4707 - acc: 0.8212 - val_loss: 0.4697 - val_acc: 0.8213\n",
      "Epoch 3/3\n",
      "3199/3199 [==============================] - 11s 3ms/step - loss: 0.4713 - acc: 0.8212 - val_loss: 0.4700 - val_acc: 0.8213\n",
      "Score for fold 1: loss of 0.4478747743368149; acc of 83.49999785423279%\n",
      ">Train: 0=572, 1=2627, Test: 0=286, 1=1314\n",
      "Model: \"sequential_13\"\n",
      "_________________________________________________________________\n",
      "Layer (type)                 Output Shape              Param #   \n",
      "=================================================================\n",
      "embedding_13 (Embedding)     (None, 2048, 16)          32768     \n",
      "_________________________________________________________________\n",
      "conv1d_16 (Conv1D)           (None, 2044, 32)          2592      \n",
      "_________________________________________________________________\n",
      "max_pooling1d_13 (MaxPooling (None, 408, 32)           0         \n",
      "_________________________________________________________________\n",
      "conv1d_17 (Conv1D)           (None, 404, 32)           5152      \n",
      "_________________________________________________________________\n",
      "max_pooling1d_14 (MaxPooling (None, 80, 32)            0         \n",
      "_________________________________________________________________\n",
      "global_max_pooling1d_12 (Glo (None, 32)                0         \n",
      "_________________________________________________________________\n",
      "dense_13 (Dense)             (None, 1)                 33        \n",
      "=================================================================\n",
      "Total params: 40,545\n",
      "Trainable params: 40,545\n",
      "Non-trainable params: 0\n",
      "_________________________________________________________________\n",
      "------------------------------------------------------------------------\n",
      "Training for fold 2 ...\n"
     ]
    },
    {
     "name": "stderr",
     "output_type": "stream",
     "text": [
      "/usr/local/anaconda3/envs/servier/lib/python3.6/site-packages/tensorflow_core/python/framework/indexed_slices.py:424: UserWarning: Converting sparse IndexedSlices to a dense Tensor of unknown shape. This may consume a large amount of memory.\n",
      "  \"Converting sparse IndexedSlices to a dense Tensor of unknown shape. \"\n"
     ]
    },
    {
     "name": "stdout",
     "output_type": "stream",
     "text": [
      "Train on 3199 samples, validate on 1600 samples\n",
      "Epoch 1/3\n",
      "3199/3199 [==============================] - 12s 4ms/step - loss: 0.4847 - acc: 0.8212 - val_loss: 0.4699 - val_acc: 0.8213\n",
      "Epoch 2/3\n",
      "3199/3199 [==============================] - 11s 3ms/step - loss: 0.4717 - acc: 0.8212 - val_loss: 0.4699 - val_acc: 0.8213\n",
      "Epoch 3/3\n",
      "3199/3199 [==============================] - 11s 3ms/step - loss: 0.4725 - acc: 0.8212 - val_loss: 0.4710 - val_acc: 0.8213\n",
      "Score for fold 2: loss of 0.44801791906356814; acc of 83.49999785423279%\n",
      ">Train: 0=572, 1=2628, Test: 0=286, 1=1313\n",
      "Model: \"sequential_14\"\n",
      "_________________________________________________________________\n",
      "Layer (type)                 Output Shape              Param #   \n",
      "=================================================================\n",
      "embedding_14 (Embedding)     (None, 2048, 16)          32768     \n",
      "_________________________________________________________________\n",
      "conv1d_18 (Conv1D)           (None, 2044, 32)          2592      \n",
      "_________________________________________________________________\n",
      "max_pooling1d_15 (MaxPooling (None, 408, 32)           0         \n",
      "_________________________________________________________________\n",
      "conv1d_19 (Conv1D)           (None, 404, 32)           5152      \n",
      "_________________________________________________________________\n",
      "max_pooling1d_16 (MaxPooling (None, 80, 32)            0         \n",
      "_________________________________________________________________\n",
      "global_max_pooling1d_13 (Glo (None, 32)                0         \n",
      "_________________________________________________________________\n",
      "dense_14 (Dense)             (None, 1)                 33        \n",
      "=================================================================\n",
      "Total params: 40,545\n",
      "Trainable params: 40,545\n",
      "Non-trainable params: 0\n",
      "_________________________________________________________________\n",
      "------------------------------------------------------------------------\n",
      "Training for fold 3 ...\n"
     ]
    },
    {
     "name": "stderr",
     "output_type": "stream",
     "text": [
      "/usr/local/anaconda3/envs/servier/lib/python3.6/site-packages/tensorflow_core/python/framework/indexed_slices.py:424: UserWarning: Converting sparse IndexedSlices to a dense Tensor of unknown shape. This may consume a large amount of memory.\n",
      "  \"Converting sparse IndexedSlices to a dense Tensor of unknown shape. \"\n"
     ]
    },
    {
     "name": "stdout",
     "output_type": "stream",
     "text": [
      "Train on 3200 samples, validate on 1599 samples\n",
      "Epoch 1/3\n",
      "3200/3200 [==============================] - 12s 4ms/step - loss: 0.5004 - acc: 0.8138 - val_loss: 0.4718 - val_acc: 0.8211\n",
      "Epoch 2/3\n",
      "3200/3200 [==============================] - 11s 3ms/step - loss: 0.4717 - acc: 0.8213 - val_loss: 0.4722 - val_acc: 0.8211\n",
      "Epoch 3/3\n",
      "3200/3200 [==============================] - 12s 4ms/step - loss: 0.4715 - acc: 0.8213 - val_loss: 0.4700 - val_acc: 0.8211\n",
      "Score for fold 3: loss of 0.4479297119379044; acc of 83.49999785423279%\n"
     ]
    }
   ],
   "source": [
    "# K-fold Cross Validation model evaluation\n",
    "fold_no = 1\n",
    "for train_ix, test_ix in kfold.split(X, y):\n",
    "    \n",
    "    # select rows\n",
    "    x_train, x_test = X[train_ix], X[test_ix]\n",
    "    y_train, y_test = y[train_ix], y[test_ix]\n",
    "    # summarize train and test composition\n",
    "    train_0, train_1 = len(y_train[y_train==0]), len(y_train[y_train==1])\n",
    "    test_0, test_1 = len(y_test[y_test==0]), len(y_test[y_test==1])\n",
    "    print('>Train: 0=%d, 1=%d, Test: 0=%d, 1=%d' % (train_0, train_1, test_0, test_1))\n",
    "    \n",
    "    x_train = sequence.pad_sequences(x_train, maxlen=max_len)\n",
    "    x_test = sequence.pad_sequences(x_test, maxlen=max_len)\n",
    "    \n",
    "  # Define the model architecture\n",
    "    model = Sequential()\n",
    "\n",
    "    model.add(Embedding(max_len, 16, input_length=max_len))\n",
    "    model.add(Conv1D(32, kernel_size=(5), activation='relu'))\n",
    "    model.add(MaxPooling1D(5))\n",
    "    #model.add(Dropout(0.8))\n",
    "    model.add(Conv1D(32, kernel_size=(5), activation='relu'))\n",
    "    model.add(MaxPooling1D(5))\n",
    "    \n",
    "    #model.add(LSTM(10))\n",
    "    #model.add(Flatten())\n",
    "    #model.add(Dense(32, activation='relu'))\n",
    "    model.add(GlobalMaxPooling1D())\n",
    "    model.add(Dense(1, activation='sigmoid'))\n",
    "\n",
    "    model.summary()\n",
    "    \n",
    "    # Compile the model\n",
    "    model.compile(optimizer='rmsprop',\n",
    "             loss='binary_crossentropy',\n",
    "             metrics=['acc'])\n",
    "\n",
    "\n",
    "    # Generate a print\n",
    "    print('------------------------------------------------------------------------')\n",
    "    print(f'Training for fold {fold_no} ...')\n",
    "\n",
    "    # Fit data to model\n",
    "    history = model.fit(x_train,y_train,epochs=3,batch_size=32,validation_data=(x_test,y_test))\n",
    "\n",
    "    # Generate generalization metrics\n",
    "    scores = model.evaluate(x_score, y_score, verbose=0)\n",
    "    print(f'Score for fold {fold_no}: {model.metrics_names[0]} of {scores[0]}; {model.metrics_names[1]} of {scores[1]*100}%')\n",
    "    #acc_per_fold.append(scores[1] * 100)\n",
    "    #loss_per_fold.append(scores[0])\n",
    "\n",
    "    # Increase fold number\n",
    "    fold_no = fold_no + 1\n"
   ]
  },
  {
   "cell_type": "code",
   "execution_count": null,
   "id": "solid-thumb",
   "metadata": {},
   "outputs": [],
   "source": []
  },
  {
   "cell_type": "code",
   "execution_count": 26,
   "id": "graduate-atlanta",
   "metadata": {},
   "outputs": [
    {
     "data": {
      "image/png": "[encoded data removed]",
      "text/plain": [
       "<Figure size 432x288 with 1 Axes>"
      ]
     },
     "metadata": {
      "needs_background": "light"
     },
     "output_type": "display_data"
    },
    {
     "data": {
      "image/png": "[encoded data removed]",
      "text/plain": [
       "<Figure size 432x288 with 1 Axes>"
      ]
     },
     "metadata": {
      "needs_background": "light"
     },
     "output_type": "display_data"
    }
   ],
   "source": [
    "plt.plot(history.history['acc'])\n",
    "plt.plot(history.history['val_acc'])\n",
    "plt.title('model accuracy')\n",
    "plt.ylabel('accuracy')\n",
    "plt.xlabel('epoch')\n",
    "plt.legend(['train', 'val'], loc='upper left')\n",
    "plt.show()\n",
    "# summarize history for loss\n",
    "plt.plot(history.history['loss'])\n",
    "plt.plot(history.history['val_loss'])\n",
    "plt.title('model loss')\n",
    "plt.ylabel('loss')\n",
    "plt.xlabel('epoch')\n",
    "plt.legend(['train', 'val'], loc='upper left')\n",
    "plt.show()"
   ]
  },
  {
   "cell_type": "code",
   "execution_count": 28,
   "id": "irish-decline",
   "metadata": {},
   "outputs": [],
   "source": [
    "model.save('servier.h5')"
   ]
  },
  {
   "cell_type": "code",
   "execution_count": null,
   "id": "second-briefs",
   "metadata": {},
   "outputs": [],
   "source": []
  }
 ],
 "metadata": {
  "kernelspec": {
   "display_name": "Python 3",
   "language": "python",
   "name": "python3"
  },
  "language_info": {
   "codemirror_mode": {
    "name": "ipython",
    "version": 3
   },
   "file_extension": ".py",
   "mimetype": "text/x-python",
   "name": "python",
   "nbconvert_exporter": "python",
   "pygments_lexer": "ipython3",
   "version": "3.6.12"
  }
 },
 "nbformat": 4,
 "nbformat_minor": 5
}
